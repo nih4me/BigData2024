{
 "cells": [
  {
   "cell_type": "code",
   "execution_count": 2,
   "metadata": {},
   "outputs": [
    {
     "name": "stderr",
     "output_type": "stream",
     "text": [
      "Setting default log level to \"WARN\".\n",
      "To adjust logging level use sc.setLogLevel(newLevel). For SparkR, use setLogLevel(newLevel).\n",
      "24/10/24 14:39:24 WARN NativeCodeLoader: Unable to load native-hadoop library for your platform... using builtin-java classes where applicable\n"
     ]
    }
   ],
   "source": [
    "import pyspark\n",
    "\n",
    "# Create the spark application context. \n",
    "# For this, you have to specify the configuration to be used\n",
    "conf = pyspark.SparkConf().setMaster('local') # The Url of your cluster. with 'local', spark will set a cluster using your laptop resources. \n",
    "sc = pyspark.SparkContext(conf=conf)\n"
   ]
  },
  {
   "cell_type": "code",
   "execution_count": 26,
   "metadata": {},
   "outputs": [],
   "source": [
    "sc.setLogLevel('WARN')"
   ]
  },
  {
   "cell_type": "code",
   "execution_count": 20,
   "metadata": {},
   "outputs": [],
   "source": [
    "def is_prime(n):\n",
    "   for i in range(n):\n",
    "      if i > 1:\n",
    "         if n % i == 0:\n",
    "            return False\n",
    "   return True"
   ]
  },
  {
   "cell_type": "code",
   "execution_count": 21,
   "metadata": {},
   "outputs": [],
   "source": [
    "data = [n for n in range(1, 1000) if is_prime(n)]"
   ]
  },
  {
   "cell_type": "code",
   "execution_count": 22,
   "metadata": {},
   "outputs": [],
   "source": [
    "# Create an RDD using the prime numbers from 1 to 1000 (the data variable)\n",
    "rdd = sc.parallelize(data)"
   ]
  },
  {
   "cell_type": "code",
   "execution_count": 23,
   "metadata": {},
   "outputs": [
    {
     "name": "stderr",
     "output_type": "stream",
     "text": [
      "24/10/24 15:02:26 TRACE HeartbeatReceiver: Checking for hosts with no recent heartbeats in HeartbeatReceiver.\n"
     ]
    }
   ],
   "source": [
    "def sum_f(a, b):\n",
    "    return a + b"
   ]
  },
  {
   "cell_type": "code",
   "execution_count": 18,
   "metadata": {},
   "outputs": [
    {
     "data": {
      "text/plain": [
       "28"
      ]
     },
     "execution_count": 18,
     "metadata": {},
     "output_type": "execute_result"
    }
   ],
   "source": [
    "sum([1, 2, 3])\n",
    "\n",
    "[\n",
    "    (0, True), (1, False), (2, False), (3, True)\n",
    "    ....\n",
    "]\n",
    "[X1, (1, False), (2, False), (3, True)]\n",
    "[X2, (2, False), (3, True)]\n",
    "[X3, (3, True)]\n",
    "[X4]\n",
    "\n",
    "a[1] + b[1]\n",
    "\n",
    "reduce(a, b)\n",
    "if a is tuple. \n",
    "    a[1] is True\n",
    "        return 1\n",
    "\n",
    "Xi integer --> number of item where item[1] is True\n",
    "\n",
    "\n",
    "\n",
    "\n",
    "[1, 2, 3, 4, 5, 6, 7]\n",
    "[3, 3, 4, 5, 6, 7]\n",
    "[6, 4, 5, 6, 7]\n",
    "[10, 5, 6, 7]\n",
    "[15, 6, 7]\n",
    "[21, 7]\n",
    "[28]\n",
    "\n",
    "[1, 2, 3, 4] --> node1\n",
    "10\n",
    "\n",
    "[5, 6, 7] --> node2\n",
    "18\n",
    "\n",
    "sum([1, 2, 3, 4, 5, 6, 7])"
   ]
  },
  {
   "cell_type": "code",
   "execution_count": null,
   "metadata": {},
   "outputs": [],
   "source": [
    "rdd.reduce(sum_f)"
   ]
  },
  {
   "cell_type": "markdown",
   "metadata": {},
   "source": [
    "# Count the number of sentenses containg the term 'voyage' in the book"
   ]
  },
  {
   "cell_type": "code",
   "execution_count": 30,
   "metadata": {},
   "outputs": [],
   "source": [
    "# Without spark. MapReduce Only\n",
    "\n",
    "data = []\n",
    "with open('The_last_voyage_of_the_Karluk.txt') as f:\n",
    "    data = f.read()\n"
   ]
  },
  {
   "cell_type": "code",
   "execution_count": 35,
   "metadata": {},
   "outputs": [],
   "source": [
    "# Split\n",
    "sentences = data.split('.') # we only consider the punctuation character '.'. TODO: Add ?, !...\n"
   ]
  },
  {
   "cell_type": "code",
   "execution_count": 40,
   "metadata": {},
   "outputs": [],
   "source": [
    "def map_func(the_sentence, idx):\n",
    "    if 'voyage' in the_sentence:\n",
    "        return (idx, True)\n",
    "    else:\n",
    "        return (idx, False)\n",
    "    # OR just return (idx, 'voyage' in the_sentence)"
   ]
  },
  {
   "cell_type": "code",
   "execution_count": 43,
   "metadata": {},
   "outputs": [],
   "source": [
    "mapped = [map_func(s, i) for i, s in enumerate(sentences)]"
   ]
  },
  {
   "cell_type": "code",
   "execution_count": 60,
   "metadata": {},
   "outputs": [],
   "source": [
    "def reduce_fn(count, mapped_sentence): # (idx, bool)\n",
    "    if isinstance(count, tuple):\n",
    "        if count[1]:\n",
    "            count = 1\n",
    "        else:\n",
    "            count = 0\n",
    "    if mapped_sentence[1]:\n",
    "        count = count + 1\n",
    "    return count\n",
    "\n",
    "def reduce_fn_2(a, b):\n",
    "    if isinstance(a, tuple):\n",
    "        return a[1] + b[1]\n",
    "    else:\n",
    "        return a + b[1]\n",
    "\n"
   ]
  },
  {
   "cell_type": "code",
   "execution_count": 56,
   "metadata": {},
   "outputs": [
    {
     "data": {
      "text/plain": [
       "1"
      ]
     },
     "execution_count": 56,
     "metadata": {},
     "output_type": "execute_result"
    }
   ],
   "source": []
  },
  {
   "cell_type": "code",
   "execution_count": 61,
   "metadata": {},
   "outputs": [],
   "source": [
    "from functools import reduce\n",
    "\n",
    "num_sentences_with_voyage = reduce(reduce_fn_2, mapped)"
   ]
  },
  {
   "cell_type": "code",
   "execution_count": 62,
   "metadata": {},
   "outputs": [
    {
     "data": {
      "text/plain": [
       "19"
      ]
     },
     "execution_count": 62,
     "metadata": {},
     "output_type": "execute_result"
    }
   ],
   "source": [
    "num_sentences_with_voyage"
   ]
  },
  {
   "cell_type": "code",
   "execution_count": 64,
   "metadata": {},
   "outputs": [],
   "source": [
    "rdd = sc.textFile('The_last_voyage_of_the_Karluk.txt')"
   ]
  },
  {
   "cell_type": "code",
   "execution_count": null,
   "metadata": {},
   "outputs": [],
   "source": [
    "def reduce_fnc(a, b):\n",
    "    pass"
   ]
  },
  {
   "cell_type": "code",
   "execution_count": 66,
   "metadata": {},
   "outputs": [
    {
     "data": {
      "text/plain": [
       "7895"
      ]
     },
     "execution_count": 66,
     "metadata": {},
     "output_type": "execute_result"
    }
   ],
   "source": [
    "rdd.reduce(reduce_fn_2)"
   ]
  }
 ],
 "metadata": {
  "kernelspec": {
   "display_name": "BigData2024-mCJV-1rg",
   "language": "python",
   "name": "python3"
  },
  "language_info": {
   "codemirror_mode": {
    "name": "ipython",
    "version": 3
   },
   "file_extension": ".py",
   "mimetype": "text/x-python",
   "name": "python",
   "nbconvert_exporter": "python",
   "pygments_lexer": "ipython3",
   "version": "3.9.18"
  }
 },
 "nbformat": 4,
 "nbformat_minor": 2
}
