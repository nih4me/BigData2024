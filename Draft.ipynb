{
 "cells": [
  {
   "cell_type": "code",
   "execution_count": 18,
   "metadata": {},
   "outputs": [],
   "source": [
    "N = 2_000_000\n",
    "host_counts = 5\n",
    "\n",
    "batch_size = N / host_counts\n",
    "\n",
    "def is_prime(n):\n",
    "   for i in range(n):\n",
    "      if i > 1:\n",
    "         if n % i == 0:\n",
    "            return False\n",
    "   return True\n",
    "\n",
    "def map(start, end):\n",
    "   primes = [n for n in range(start, end) if is_prime(n)]\n",
    "   return primes\n",
    "\n",
    "def reduce_fn(x, y):\n",
    "   print(x, y)\n",
    "   return x + y"
   ]
  },
  {
   "cell_type": "code",
   "execution_count": 19,
   "metadata": {},
   "outputs": [
    {
     "data": {
      "text/plain": [
       "[1, 2, 3]"
      ]
     },
     "execution_count": 19,
     "metadata": {},
     "output_type": "execute_result"
    }
   ],
   "source": [
    "from functools import reduce\n",
    "\n",
    "primes = map(1, 5) # prime numbers between [a, b) [1, 2) \n",
    "primes"
   ]
  },
  {
   "cell_type": "code",
   "execution_count": 20,
   "metadata": {},
   "outputs": [
    {
     "name": "stdout",
     "output_type": "stream",
     "text": [
      "1 2\n",
      "3 3\n"
     ]
    },
    {
     "data": {
      "text/plain": [
       "6"
      ]
     },
     "execution_count": 20,
     "metadata": {},
     "output_type": "execute_result"
    }
   ],
   "source": [
    "result = reduce(reduce_fn, primes)\n",
    "result"
   ]
  },
  {
   "cell_type": "code",
   "execution_count": 18,
   "metadata": {},
   "outputs": [
    {
     "data": {
      "text/plain": [
       "76128"
      ]
     },
     "execution_count": 18,
     "metadata": {},
     "output_type": "execute_result"
    }
   ],
   "source": [
    "sum(primes)"
   ]
  }
 ],
 "metadata": {
  "kernelspec": {
   "display_name": "NLP2_2024-8txqnen0",
   "language": "python",
   "name": "python3"
  },
  "language_info": {
   "codemirror_mode": {
    "name": "ipython",
    "version": 3
   },
   "file_extension": ".py",
   "mimetype": "text/x-python",
   "name": "python",
   "nbconvert_exporter": "python",
   "pygments_lexer": "ipython3",
   "version": "3.9.18"
  }
 },
 "nbformat": 4,
 "nbformat_minor": 2
}
