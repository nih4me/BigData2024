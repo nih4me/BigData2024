{
  "cells": [
    {
      "cell_type": "markdown",
      "metadata": {},
      "source": [
        "# Titanic Dataset Big Data Pipeline\n",
        "This notebook demonstrates a full big data pipeline using PySpark for the Titanic dataset, including data preprocessing, visualization, and training a classification model."
      ]
    },
    {
      "cell_type": "code",
      "execution_count": 10,
      "metadata": {},
      "outputs": [
        {
          "name": "stdout",
          "output_type": "stream",
          "text": [
            "Collecting pandas\n",
            "  Downloading pandas-2.2.3-cp39-cp39-macosx_10_9_x86_64.whl.metadata (89 kB)\n",
            "Requirement already satisfied: numpy>=1.22.4 in /Users/abdoulkader.kabore/.local/share/virtualenvs/BigData2024-mCJV-1rg/lib/python3.9/site-packages (from pandas) (2.0.2)\n",
            "Requirement already satisfied: python-dateutil>=2.8.2 in /Users/abdoulkader.kabore/.local/share/virtualenvs/BigData2024-mCJV-1rg/lib/python3.9/site-packages (from pandas) (2.9.0.post0)\n",
            "Collecting pytz>=2020.1 (from pandas)\n",
            "  Downloading pytz-2024.2-py2.py3-none-any.whl.metadata (22 kB)\n",
            "Collecting tzdata>=2022.7 (from pandas)\n",
            "  Downloading tzdata-2024.2-py2.py3-none-any.whl.metadata (1.4 kB)\n",
            "Requirement already satisfied: six>=1.5 in /Users/abdoulkader.kabore/.local/share/virtualenvs/BigData2024-mCJV-1rg/lib/python3.9/site-packages (from python-dateutil>=2.8.2->pandas) (1.16.0)\n",
            "Downloading pandas-2.2.3-cp39-cp39-macosx_10_9_x86_64.whl (12.6 MB)\n",
            "\u001b[2K   \u001b[90m━━━━━━━━━━━━━━━━━━━━━━━━━━━━━━━━━━━━━━━━\u001b[0m \u001b[32m12.6/12.6 MB\u001b[0m \u001b[31m15.3 MB/s\u001b[0m eta \u001b[36m0:00:00\u001b[0m00:01\u001b[0m0:01\u001b[0m\n",
            "\u001b[?25hDownloading pytz-2024.2-py2.py3-none-any.whl (508 kB)\n",
            "Downloading tzdata-2024.2-py2.py3-none-any.whl (346 kB)\n",
            "Installing collected packages: pytz, tzdata, pandas\n",
            "Successfully installed pandas-2.2.3 pytz-2024.2 tzdata-2024.2\n",
            "\n",
            "\u001b[1m[\u001b[0m\u001b[34;49mnotice\u001b[0m\u001b[1;39;49m]\u001b[0m\u001b[39;49m A new release of pip is available: \u001b[0m\u001b[31;49m24.2\u001b[0m\u001b[39;49m -> \u001b[0m\u001b[32;49m24.3.1\u001b[0m\n",
            "\u001b[1m[\u001b[0m\u001b[34;49mnotice\u001b[0m\u001b[1;39;49m]\u001b[0m\u001b[39;49m To update, run: \u001b[0m\u001b[32;49mpip install --upgrade pip\u001b[0m\n"
          ]
        }
      ],
      "source": [
        "!pip install pandas"
      ]
    },
    {
      "cell_type": "code",
      "execution_count": 1,
      "metadata": {},
      "outputs": [
        {
          "name": "stderr",
          "output_type": "stream",
          "text": [
            "Setting default log level to \"WARN\".\n",
            "To adjust logging level use sc.setLogLevel(newLevel). For SparkR, use setLogLevel(newLevel).\n",
            "24/12/12 14:22:29 WARN NativeCodeLoader: Unable to load native-hadoop library for your platform... using builtin-java classes where applicable\n"
          ]
        },
        {
          "name": "stdout",
          "output_type": "stream",
          "text": [
            "+------+--------+--------------------+------+------+-----+-----+------+--------+-------+--------+\n",
            "|pclass|survival|                name|   sex|   age|sibsp|parch|ticket|    fare|  cabin|embarked|\n",
            "+------+--------+--------------------+------+------+-----+-----+------+--------+-------+--------+\n",
            "|     1|       1|Allen, Miss. Elis...|female|  29.0|    0|    0| 24160|211.3375|     B5|       S|\n",
            "|     1|       1|Allison, Master. ...|  male|0.9167|    1|    2|113781|  151.55|C22 C26|       S|\n",
            "|     1|       0|Allison, Miss. He...|female|   2.0|    1|    2|113781|  151.55|C22 C26|       S|\n",
            "|     1|       0|Allison, Mr. Huds...|  male|  30.0|    1|    2|113781|  151.55|C22 C26|       S|\n",
            "|     1|       0|Allison, Mrs. Hud...|female|  25.0|    1|    2|113781|  151.55|C22 C26|       S|\n",
            "+------+--------+--------------------+------+------+-----+-----+------+--------+-------+--------+\n",
            "only showing top 5 rows\n",
            "\n"
          ]
        }
      ],
      "source": [
        "from pyspark.sql import SparkSession\n",
        "spark = SparkSession.builder \\\n",
        "    .appName(\"TitanicPipeline\") \\\n",
        "    .getOrCreate()\n",
        "\n",
        "# Load the Titanic dataset\n",
        "df = spark.read.csv(\"titanic.csv\", header=True, inferSchema=True)\n",
        "df.show(5)"
      ]
    },
    {
      "cell_type": "markdown",
      "metadata": {},
      "source": [
        "## Data Preprocessing\n",
        "Handle missing values and perform feature engineering."
      ]
    },
    {
      "cell_type": "code",
      "execution_count": 19,
      "metadata": {},
      "outputs": [
        {
          "name": "stdout",
          "output_type": "stream",
          "text": [
            "+------+--------+--------------------+------+------+-----+-----+------+--------+-------+--------+--------+-------------+\n",
            "|pclass|survival|                name|   sex|   age|sibsp|parch|ticket|    fare|  cabin|embarked|sexIndex|embarkedIndex|\n",
            "+------+--------+--------------------+------+------+-----+-----+------+--------+-------+--------+--------+-------------+\n",
            "|     1|       1|Allen, Miss. Elis...|female|  29.0|    0|    0| 24160|211.3375|     B5|       S|     1.0|          0.0|\n",
            "|     1|       1|Allison, Master. ...|  male|0.9167|    1|    2|113781|  151.55|C22 C26|       S|     0.0|          0.0|\n",
            "|     1|       0|Allison, Miss. He...|female|   2.0|    1|    2|113781|  151.55|C22 C26|       S|     1.0|          0.0|\n",
            "|     1|       0|Allison, Mr. Huds...|  male|  30.0|    1|    2|113781|  151.55|C22 C26|       S|     0.0|          0.0|\n",
            "|     1|       0|Allison, Mrs. Hud...|female|  25.0|    1|    2|113781|  151.55|C22 C26|       S|     1.0|          0.0|\n",
            "+------+--------+--------------------+------+------+-----+-----+------+--------+-------+--------+--------+-------------+\n",
            "only showing top 5 rows\n",
            "\n"
          ]
        }
      ],
      "source": [
        "from pyspark.sql.functions import col\n",
        "\n",
        "# Handle missing values\n",
        "df = df.fillna({\"age\": df.select(\"age\").dropna().rdd.map(lambda x: x[0]).mean()})\n",
        "df = df.dropna(subset=[\"Embarked\"])\n",
        "\n",
        "# Feature Engineering\n",
        "from pyspark.ml.feature import StringIndexer, VectorAssembler\n",
        "\n",
        "sex_indexer = StringIndexer(inputCol=\"sex\", outputCol=\"sexIndex\")\n",
        "embarked_indexer = StringIndexer(inputCol=\"embarked\", outputCol=\"embarkedIndex\")\n",
        "df = sex_indexer.fit(df).transform(df)\n",
        "df = embarked_indexer.fit(df).transform(df)\n",
        "df.show(5)"
      ]
    },
    {
      "cell_type": "code",
      "execution_count": 20,
      "metadata": {},
      "outputs": [
        {
          "name": "stdout",
          "output_type": "stream",
          "text": [
            "+------+--------+--------------------+------+------+-----+-----+------+--------+-------+--------+--------+-------------+--------------------+\n",
            "|pclass|survival|                name|   sex|   age|sibsp|parch|ticket|    fare|  cabin|embarked|sexIndex|embarkedIndex|            features|\n",
            "+------+--------+--------------------+------+------+-----+-----+------+--------+-------+--------+--------+-------------+--------------------+\n",
            "|     1|       1|Allen, Miss. Elis...|female|  29.0|    0|    0| 24160|211.3375|     B5|       S|     1.0|          0.0|[1.0,29.0,211.337...|\n",
            "|     1|       1|Allison, Master. ...|  male|0.9167|    1|    2|113781|  151.55|C22 C26|       S|     0.0|          0.0|[1.0,0.9167,151.5...|\n",
            "|     1|       0|Allison, Miss. He...|female|   2.0|    1|    2|113781|  151.55|C22 C26|       S|     1.0|          0.0|[1.0,2.0,151.55,1...|\n",
            "|     1|       0|Allison, Mr. Huds...|  male|  30.0|    1|    2|113781|  151.55|C22 C26|       S|     0.0|          0.0|[1.0,30.0,151.55,...|\n",
            "|     1|       0|Allison, Mrs. Hud...|female|  25.0|    1|    2|113781|  151.55|C22 C26|       S|     1.0|          0.0|[1.0,25.0,151.55,...|\n",
            "+------+--------+--------------------+------+------+-----+-----+------+--------+-------+--------+--------+-------------+--------------------+\n",
            "only showing top 5 rows\n",
            "\n"
          ]
        }
      ],
      "source": [
        "# Selecting the features\n",
        "assembler = VectorAssembler(inputCols=[\"pclass\", \"age\", \"fare\", \"sexIndex\", \"embarkedIndex\"],\n",
        "                            outputCol=\"features\", handleInvalid=\"skip\") # avoid handleInvalid=\"skip\". It is prefered to have a look at your data and decide how to handle ALL the missing values\n",
        "df = assembler.transform(df)\n",
        "df.show(5)"
      ]
    },
    {
      "cell_type": "markdown",
      "metadata": {},
      "source": [
        "## Data Visualization\n",
        "Convert Spark DataFrame to Pandas for visualization."
      ]
    },
    {
      "cell_type": "code",
      "execution_count": 21,
      "metadata": {},
      "outputs": [
        {
          "data": {
            "image/png": "[encoded data removed]",
            "text/plain": [
              "<Figure size 640x480 with 1 Axes>"
            ]
          },
          "metadata": {},
          "output_type": "display_data"
        }
      ],
      "source": [
        "import matplotlib.pyplot as plt\n",
        "\n",
        "pandas_df = df.toPandas()\n",
        "pandas_df['survival'].value_counts().plot(kind='bar')\n",
        "plt.title(\"Survival Counts\")\n",
        "plt.xlabel(\"survival\")\n",
        "plt.ylabel(\"count\")\n",
        "plt.show()"
      ]
    },
    {
      "cell_type": "markdown",
      "metadata": {},
      "source": [
        "## Train a Classification Model\n",
        "Split the data into training and testing sets, and train a logistic regression model."
      ]
    },
    {
      "cell_type": "code",
      "execution_count": 22,
      "metadata": {},
      "outputs": [
        {
          "name": "stderr",
          "output_type": "stream",
          "text": [
            "24/12/12 14:14:31 WARN InstanceBuilder: Failed to load implementation from:dev.ludovic.netlib.blas.JNIBLAS\n",
            "24/12/12 14:14:31 WARN InstanceBuilder: Failed to load implementation from:dev.ludovic.netlib.blas.VectorBLAS\n"
          ]
        },
        {
          "name": "stdout",
          "output_type": "stream",
          "text": [
            "+--------+----------+\n",
            "|survival|prediction|\n",
            "+--------+----------+\n",
            "|       0|       1.0|\n",
            "|       0|       0.0|\n",
            "|       0|       0.0|\n",
            "|       0|       0.0|\n",
            "|       0|       0.0|\n",
            "+--------+----------+\n",
            "only showing top 5 rows\n",
            "\n"
          ]
        }
      ],
      "source": [
        "# Split the dataset\n",
        "train, test = df.randomSplit([0.8, 0.2], seed=42)\n",
        "\n",
        "# Train Logistic Regression Model\n",
        "from pyspark.ml.classification import LogisticRegression\n",
        "\n",
        "lr = LogisticRegression(featuresCol=\"features\", labelCol=\"survival\")\n",
        "model = lr.fit(train)\n",
        "predictions = model.transform(test)\n",
        "predictions.select(\"survival\", \"prediction\").show(5)"
      ]
    },
    {
      "cell_type": "markdown",
      "metadata": {},
      "source": [
        "## Model Evaluation\n",
        "Evaluate the logistic regression model."
      ]
    },
    {
      "cell_type": "code",
      "execution_count": 23,
      "metadata": {},
      "outputs": [
        {
          "name": "stdout",
          "output_type": "stream",
          "text": [
            "AUC: 0.7421881407364881\n"
          ]
        }
      ],
      "source": [
        "from pyspark.ml.evaluation import BinaryClassificationEvaluator\n",
        "\n",
        "evaluator = BinaryClassificationEvaluator(labelCol=\"survival\", rawPredictionCol=\"prediction\")\n",
        "auc = evaluator.evaluate(predictions)\n",
        "print(f\"AUC: {auc}\")"
      ]
    }
  ],
  "metadata": {
    "kernelspec": {
      "display_name": "Python 3",
      "language": "python",
      "name": "python3"
    },
    "language_info": {
      "codemirror_mode": {
        "name": "ipython",
        "version": 3
      },
      "file_extension": ".py",
      "mimetype": "text/x-python",
      "name": "python",
      "nbconvert_exporter": "python",
      "pygments_lexer": "ipython3",
      "version": "3.9.18"
    }
  },
  "nbformat": 4,
  "nbformat_minor": 2
}
